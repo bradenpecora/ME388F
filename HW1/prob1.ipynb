{
 "cells": [
  {
   "cell_type": "code",
   "execution_count": 10,
   "metadata": {},
   "outputs": [],
   "source": [
    "import concurrent.futures\n",
    "import time\n",
    "\n",
    "# run with cuda\n",
    "import cupy as cp\n",
    "import cupyx.scipy.sparse as sp\n",
    "import cupyx.scipy.sparse.linalg as splinalg\n",
    "cp.get_default_memory_pool().free_all_blocks()\n",
    "\n",
    "# for running without cuda\n",
    "# import numpy as cp\n",
    "# import scipy.sparse as sp\n",
    "# import scipy.sparse.linalg as splinalg"
   ]
  },
  {
   "cell_type": "code",
   "execution_count": 11,
   "metadata": {},
   "outputs": [],
   "source": [
    "def timed_problem(problem, matrix_size):\n",
    "    A, b, solver = problem(matrix_size)\n",
    "    # we aren't counting the time it takes to construct the matrix\n",
    "    start_time = time.time()\n",
    "    solver(A, b)\n",
    "    end_time = time.time()\n",
    "    cp.get_default_memory_pool().free_all_blocks()\n",
    "    return end_time - start_time\n",
    "\n",
    "\n",
    "def run_problems(\n",
    "    problems: list, matrix_sizes=[10**i for i in range(1, 5)], timeout=60 * 5\n",
    "):\n",
    "    run_times = {\n",
    "        problem.__name__: {matrix_size: None for matrix_size in matrix_sizes}\n",
    "        for problem in problems\n",
    "    }\n",
    "\n",
    "    for problem in problems:\n",
    "        print(f\"Running {problem.__name__} \\n\")\n",
    "        # I don't want the problems to run in parallel\n",
    "        with concurrent.futures.ThreadPoolExecutor(max_workers=1) as executor:\n",
    "            futures = {\n",
    "                matrix_size: executor.submit(timed_problem, problem, matrix_size)\n",
    "                for matrix_size in matrix_sizes\n",
    "            }\n",
    "\n",
    "            for future in concurrent.futures.as_completed(futures.values()):\n",
    "                matrix_size = next(\n",
    "                    key for key, value in futures.items() if value == future\n",
    "                )\n",
    "                matrix_size_text = f\"{matrix_size:.0e}\"\n",
    "                try:\n",
    "                    run_time = future.result(timeout=timeout)\n",
    "                    print(f\"Finished for matrix size {matrix_size_text} in {run_time} seconds\")\n",
    "                    run_times[problem.__name__][matrix_size] = run_time\n",
    "                except concurrent.futures.TimeoutError:\n",
    "                    print(f\"Timeout for matrix size {matrix_size_text}\")\n",
    "                    break\n",
    "                except Exception as e:\n",
    "                    print(f\"Exception for matrix size {matrix_size_text}: {e}\")\n",
    "                    break\n",
    "\n",
    "    return run_times\n",
    "\n",
    "run_times = {}"
   ]
  },
  {
   "cell_type": "code",
   "execution_count": 12,
   "metadata": {},
   "outputs": [
    {
     "name": "stdout",
     "output_type": "stream",
     "text": [
      "Running prob1 \n",
      "\n",
      "Finished for matrix size 1e+01 in 0.0 seconds\n",
      "Finished for matrix size 1e+02 in 0.007524013519287109 seconds\n",
      "Finished for matrix size 1e+03 in 0.0010099411010742188 seconds\n",
      "Finished for matrix size 1e+04 in 0.0009906291961669922 seconds\n",
      "Finished for matrix size 1e+05 in 0.0014879703521728516 seconds\n",
      "Finished for matrix size 1e+06 in 0.008454561233520508 seconds\n",
      "Finished for matrix size 1e+07 in 0.22781896591186523 seconds\n",
      "Finished for matrix size 1e+08 in 0.36722874641418457 seconds\n"
     ]
    }
   ],
   "source": [
    "def prob1(matrix_size):\n",
    "    \"\"\"\n",
    "    1. Diagonal matrix: for N ∈ [10, 109] in factors of 10 until compute time\n",
    "    seems unreasonable.\n",
    "    • Lx and Ux are 0\n",
    "    • D0 to DN and b0 to bN are 1\n",
    "    \n",
    "    This problem can be solved algebraically. Di = bi for all i. \n",
    "    \"\"\"\n",
    "    A = sp.eye(matrix_size, format=\"csr\")\n",
    "    b = cp.ones(matrix_size)\n",
    "    return A, b, splinalg.spsolve_triangular\n",
    "\n",
    "run_times.update(run_problems([prob1], matrix_sizes=[10**i for i in range(1, 9)]))"
   ]
  },
  {
   "cell_type": "code",
   "execution_count": 13,
   "metadata": {},
   "outputs": [
    {
     "name": "stdout",
     "output_type": "stream",
     "text": [
      "Running prob2 \n",
      "\n",
      "Finished for matrix size 1e+01 in 0.010002613067626953 seconds\n",
      "Finished for matrix size 1e+02 in 0.0284731388092041 seconds\n",
      "Finished for matrix size 1e+03 in 0.030472993850708008 seconds\n",
      "Finished for matrix size 1e+04 in 4.286558389663696 seconds\n"
     ]
    }
   ],
   "source": [
    "def prob2(matrix_size):\n",
    "    \"\"\"\n",
    "    2. Lower triangular matrix: for N ∈ [10, 109] in factors of 10 until compute\n",
    "    time seems unreasonable.\n",
    "    • U1 to UN are 0\n",
    "    • LA is -1/A for A ∈ [1, N ]\n",
    "    • D1 to DN is one minus the sum of LA in the row\n",
    "    • b0 to bN are 1\n",
    "    \"\"\"\n",
    "    # Create diagonal values\n",
    "    diag_values = {i: -1 / i for i in range(1, matrix_size)}\n",
    "\n",
    "    # Create diagonals\n",
    "    diags = {i: cp.full((matrix_size - i), value) for i, value in diag_values.items()}\n",
    "    diags[0] = cp.cumsum(cp.array([1] + [-1 * i for i in diag_values.values()]))\n",
    "\n",
    "    # Create the lower triangular matrix\n",
    "    mat = sp.tril(\n",
    "        sp.diags(\n",
    "            list(diags.values()),\n",
    "            -1 * cp.array(list(diags.keys())),\n",
    "            format=\"csr\",\n",
    "            dtype=cp.float32,\n",
    "        )\n",
    "    )\n",
    "\n",
    "    b = cp.ones(matrix_size, dtype=cp.float32)\n",
    "\n",
    "    return mat, b, splinalg.spsolve_triangular\n",
    "\n",
    "prob2_results = run_problems([prob2])\n",
    "run_times.update(prob2_results)"
   ]
  },
  {
   "cell_type": "code",
   "execution_count": 14,
   "metadata": {},
   "outputs": [
    {
     "name": "stdout",
     "output_type": "stream",
     "text": [
      "Running prob3 \n",
      "\n",
      "Finished for matrix size 1e+01 in 0.0005018711090087891 seconds\n",
      "Finished for matrix size 1e+02 in 0.0 seconds\n",
      "Finished for matrix size 1e+03 in 0.0010006427764892578 seconds\n",
      "Finished for matrix size 1e+04 in 0.004502773284912109 seconds\n"
     ]
    }
   ],
   "source": [
    "def prob3(matrix_size):\n",
    "    \"\"\"\n",
    "    3. Upper-Triangular matrix: for N ∈ [10, 109] in factors of 10 until compute\n",
    "    time seems unreasonable.\n",
    "    • L1 to LN are 0\n",
    "    • UA is -1/A for A ∈ [1, N ]\n",
    "    • D1 to DN is one minus the sum of UA in the row\n",
    "    • b0 to bN are 1\n",
    "    \"\"\"\n",
    "    # Create diagonal values\n",
    "    diag_values = {i: -1 / i for i in range(1, matrix_size)}\n",
    "\n",
    "    # Create diagonals\n",
    "    diags = {i: cp.full((matrix_size - i), value) for i, value in diag_values.items()}\n",
    "    diags[0] = cp.cumsum(cp.array([1] + [-1 * i for i in diag_values.values()]))[::-1]\n",
    "\n",
    "    # Create the lower triangular matrix\n",
    "    mat = sp.diags(\n",
    "        list(diags.values()),\n",
    "        1 * cp.array(list(diags.keys())),\n",
    "        format=\"csr\",\n",
    "        dtype=cp.float32,\n",
    "    )\n",
    "\n",
    "    b = cp.ones(matrix_size, dtype=cp.float32)\n",
    "    \n",
    "    return mat, b, splinalg.spsolve_triangular\n",
    "\n",
    "\n",
    "prob3_results = run_problems([prob3])\n",
    "run_times.update(prob3_results)"
   ]
  },
  {
   "cell_type": "code",
   "execution_count": 15,
   "metadata": {},
   "outputs": [
    {
     "name": "stdout",
     "output_type": "stream",
     "text": [
      "Running prob4 \n",
      "\n",
      "Finished for matrix size 1e+01 in 0.005156993865966797 seconds\n",
      "Finished for matrix size 1e+02 in 0.0016646385192871094 seconds\n",
      "Finished for matrix size 1e+03 in 0.01132059097290039 seconds\n",
      "Finished for matrix size 1e+04 in 0.10631823539733887 seconds\n",
      "Finished for matrix size 1e+05 in 1.092623233795166 seconds\n",
      "Finished for matrix size 1e+06 in 11.00407862663269 seconds\n"
     ]
    }
   ],
   "source": [
    "def prob4(matrix_size):\n",
    "    \"\"\"\n",
    "    4. Tridiagonal matrix: for N ∈ [10, 109] in factors of 10 until compute time\n",
    "    seems unreasonable.\n",
    "    • L1 to LN are -1\n",
    "    • U1 to UN are -1\n",
    "    • D1 to DN are 3\n",
    "    • b0 to bN are 1\n",
    "    \"\"\"\n",
    "    value_map = {-1 : -1, 0 : 3, 1 : -1}\n",
    "    mat = sp.diags(\n",
    "        list(value_map.values()),\n",
    "        list(value_map.keys()),\n",
    "        shape=(matrix_size, matrix_size),\n",
    "        format=\"csr\",\n",
    "    )\n",
    "    b = cp.ones(matrix_size)\n",
    "\n",
    "    return mat, b, splinalg.spsolve\n",
    "\n",
    "prob4_results = run_problems([prob4], matrix_sizes=[10**i for i in range(1, 7)])\n",
    "run_times.update(prob4_results)"
   ]
  },
  {
   "cell_type": "code",
   "execution_count": 16,
   "metadata": {},
   "outputs": [
    {
     "name": "stdout",
     "output_type": "stream",
     "text": [
      "Running prob5 \n",
      "\n",
      "Finished for matrix size 1e+01 in 0.001978635787963867 seconds\n",
      "Finished for matrix size 1e+02 in 0.002065420150756836 seconds\n",
      "Finished for matrix size 1e+03 in 0.01174616813659668 seconds\n",
      "Finished for matrix size 1e+04 in 0.11741328239440918 seconds\n",
      "Finished for matrix size 1e+05 in 1.1982793807983398 seconds\n",
      "Finished for matrix size 1e+06 in 11.911452054977417 seconds\n"
     ]
    }
   ],
   "source": [
    "def prob5(matrix_size):\n",
    "    \"\"\"\n",
    "    5. Banded matrix: for N ∈ [10, 109] in factors of 10 until compute time seems\n",
    "    unreasonable.\n",
    "    • U1, U5, L1, and L5 are −1\n",
    "    • D1 to DN is 5\n",
    "    • b0 to bN are 1\n",
    "    • The rest of U and L are zero.\n",
    "    \"\"\"\n",
    "    value_map = {-1: -1, -5 : -1, 1 : -1, 5 : -1, 0 : 5}\n",
    "    mat = sp.diags(\n",
    "        list(value_map.values()),\n",
    "        list(value_map.keys()),\n",
    "        shape=(matrix_size, matrix_size),\n",
    "        format=\"csr\",\n",
    "    )\n",
    "    b = cp.ones(matrix_size)\n",
    "\n",
    "    return mat, b, splinalg.spsolve\n",
    "\n",
    "\n",
    "prob5_results = run_problems([prob5], matrix_sizes=[10**i for i in range(1, 7)])\n",
    "run_times.update(prob5_results)"
   ]
  },
  {
   "cell_type": "code",
   "execution_count": 18,
   "metadata": {},
   "outputs": [
    {
     "name": "stdout",
     "output_type": "stream",
     "text": [
      "Running prob6 \n",
      "\n",
      "Finished for matrix size 1e+01 in 0.010062694549560547 seconds\n",
      "Finished for matrix size 1e+02 in 0.017606019973754883 seconds\n",
      "Finished for matrix size 1e+03 in 0.10295820236206055 seconds\n",
      "Finished for matrix size 1e+04 in 0.277296781539917 seconds\n",
      "Finished for matrix size 1e+05 in 1.1173458099365234 seconds\n",
      "Finished for matrix size 1e+06 in 10.917600870132446 seconds\n",
      "Finished for matrix size 1e+07 in 179.83606696128845 seconds\n"
     ]
    }
   ],
   "source": [
    "def prob6(matrix_size):\n",
    "    \"\"\"\n",
    "    7. Upwind matrix: for N ∈ [10, 109] in factors of 10 until compute time seems\n",
    "    unreasonable.\n",
    "    • U1 to UN and L2 to LN are 0\n",
    "    • L1 = -0.9\n",
    "    • D1 to DN is 1\n",
    "    • b1 to bN are 0, but b0 = 1\n",
    "    \"\"\"\n",
    "    value_map = {-1: -0.9, 0 : 1}\n",
    "    A = sp.diags(\n",
    "        list(value_map.values()),\n",
    "        list(value_map.keys()),\n",
    "        shape=(matrix_size, matrix_size),\n",
    "        format=\"csr\",\n",
    "    )\n",
    "    b = cp.zeros(matrix_size)\n",
    "    b[0] = 1\n",
    "\n",
    "    return A, b, splinalg.spsolve\n",
    "\n",
    "prob6_results = run_problems([prob6], matrix_sizes=[10**i for i in range(1, 8)])\n",
    "run_times.update(prob6_results)"
   ]
  }
 ],
 "metadata": {
  "kernelspec": {
   "display_name": "base",
   "language": "python",
   "name": "python3"
  },
  "language_info": {
   "codemirror_mode": {
    "name": "ipython",
    "version": 3
   },
   "file_extension": ".py",
   "mimetype": "text/x-python",
   "name": "python",
   "nbconvert_exporter": "python",
   "pygments_lexer": "ipython3",
   "version": "3.12.3"
  }
 },
 "nbformat": 4,
 "nbformat_minor": 2
}
