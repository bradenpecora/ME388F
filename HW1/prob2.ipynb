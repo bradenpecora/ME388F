{
 "cells": [
  {
   "cell_type": "code",
   "execution_count": 5,
   "metadata": {},
   "outputs": [
    {
     "name": "stdout",
     "output_type": "stream",
     "text": [
      "F_ij(X, Y) = 4.9999675000826575e-06\n"
     ]
    }
   ],
   "source": [
    "import numpy as np\n",
    "\n",
    "def F_ij(X, Y):\n",
    "    \"\"\"\n",
    "    Calculate the value of the given function F_ij.\n",
    "\n",
    "    Parameters:\n",
    "    X: float or numpy array\n",
    "        The variable X (overline{X}).\n",
    "    Y: float or numpy array\n",
    "        The variable Y (overline{Y}).\n",
    "\n",
    "    Returns:\n",
    "    float or numpy array: The value of F_ij.\n",
    "    \"\"\"\n",
    "    if X == 0 or Y == 0:\n",
    "        raise ValueError(\"X and Y must be non-zero to avoid division errors.\")\n",
    "\n",
    "    term1 = np.log((((1 + X**2) * (1 + Y**2)) / (1 + X**2 + Y**2))**0.5)\n",
    "    \n",
    "    term2 = X * np.sqrt(1 + Y**2) * np.arctan(X / np.sqrt(1 + Y**2))\n",
    "    term3 = Y * np.sqrt(1 + X**2) * np.arctan(Y / np.sqrt(1 + X**2))\n",
    "    \n",
    "    term4 = -X * np.arctan(X) - Y * np.arctan(Y)\n",
    "\n",
    "    F = (2 / (np.pi * X * Y)) * (term1 + term2 + term3 + term4)\n",
    "    return F\n",
    "\n",
    "# Example usage:\n",
    "X = 1e5  # Example value for X\n",
    "Y = 1e-5  # Example value for Y\n",
    "result = F_ij(X, Y)\n",
    "print(\"F_ij(X, Y) =\", result)"
   ]
  }
 ],
 "metadata": {
  "kernelspec": {
   "display_name": "base",
   "language": "python",
   "name": "python3"
  },
  "language_info": {
   "codemirror_mode": {
    "name": "ipython",
    "version": 3
   },
   "file_extension": ".py",
   "mimetype": "text/x-python",
   "name": "python",
   "nbconvert_exporter": "python",
   "pygments_lexer": "ipython3",
   "version": "3.12.3"
  }
 },
 "nbformat": 4,
 "nbformat_minor": 2
}
