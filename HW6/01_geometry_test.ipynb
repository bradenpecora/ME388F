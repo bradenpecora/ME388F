{
 "cells": [
  {
   "cell_type": "code",
   "execution_count": 1,
   "id": "4fdfe162",
   "metadata": {},
   "outputs": [],
   "source": [
    "# This code is testing if I can correctly calculate the length of a line intersecting a polygon\n",
    "import shapely"
   ]
  },
  {
   "cell_type": "code",
   "execution_count": 2,
   "id": "e1e47ee3",
   "metadata": {},
   "outputs": [
    {
     "name": "stdout",
     "output_type": "stream",
     "text": [
      "0.14142135623730948\n",
      "1.2727922061357855\n",
      "0.14142135623730964\n"
     ]
    }
   ],
   "source": [
    "sq_sw = shapely.box(xmin=0, ymin=0, xmax=1, ymax=1)\n",
    "sq_se = shapely.box(xmin=1, ymin=0, xmax=2, ymax=1)\n",
    "sq_nw = shapely.box(xmin=0, ymin=1, xmax=1, ymax=2)\n",
    "sq_ne = shapely.box(xmin=1, ymin=1, xmax=2, ymax=2)\n",
    "four_sq = [sq_sw, sq_se, sq_nw, sq_ne]\n",
    "\n",
    "tree = shapely.STRtree(four_sq)\n",
    "\n",
    "ray = shapely.LineString([shapely.Point(0, 0.9), shapely.Point(1.1, 2)])\n",
    "\n",
    "idxs = tree.query_nearest(ray)#, predicate=\"intersects\")\n",
    "idxs = tree.query(ray, predicate=\"intersects\")\n",
    "\n",
    "objs = [tree.geometries.take(i) for i in idxs]\n",
    "objs # can this obj \n",
    "\n",
    "for obj in objs:\n",
    "    intersection = ray.intersection(obj)\n",
    "    print(intersection.length)"
   ]
  },
  {
   "cell_type": "code",
   "execution_count": 3,
   "id": "1f5a21cb",
   "metadata": {},
   "outputs": [
    {
     "data": {
      "image/svg+xml": [
       "<svg xmlns=\"http://www.w3.org/2000/svg\" xmlns:xlink=\"http://www.w3.org/1999/xlink\" width=\"100.0\" height=\"100.0\" viewBox=\"-0.58 -0.58 2.16 2.16\" preserveAspectRatio=\"xMinYMin meet\"><g transform=\"matrix(1,0,0,-1,0,1.0)\"><path fill-rule=\"evenodd\" fill=\"#66cc99\" stroke=\"#555555\" stroke-width=\"0.0432\" opacity=\"0.6\" d=\"M 1.5,0.5 L 1.495184726672197,0.4019828596704394 L 1.4807852804032304,0.30490967798387175 L 1.4569403357322088,0.20971532274553767 L 1.4238795325112867,0.11731656763491022 L 1.381921264348355,0.028603263174002358 L 1.3314696123025453,-0.05557023301960218 L 1.2730104533627369,-0.1343932841636455 L 1.2071067811865475,-0.20710678118654757 L 1.1343932841636455,-0.2730104533627369 L 1.0555702330196022,-0.33146961230254524 L 0.9713967368259978,-0.38192126434835494 L 0.8826834323650898,-0.42387953251128674 L 0.7902846772544623,-0.45694033573220894 L 0.6950903220161283,-0.48078528040323043 L 0.5980171403295608,-0.4951847266721968 L 0.5,-0.5 L 0.40198285967043934,-0.49518472667219693 L 0.3049096779838718,-0.48078528040323043 L 0.20971532274553784,-0.45694033573220894 L 0.11731656763491027,-0.42387953251128674 L 0.028603263174002302,-0.38192126434835505 L -0.055570233019601956,-0.33146961230254535 L -0.13439328416364538,-0.2730104533627371 L -0.20710678118654746,-0.20710678118654757 L -0.273010453362737,-0.1343932841636455 L -0.33146961230254535,-0.05557023301960218 L -0.38192126434835494,0.02860326317400219 L -0.42387953251128674,0.11731656763491011 L -0.4569403357322088,0.2097153227455376 L -0.48078528040323043,0.30490967798387136 L -0.4951847266721968,0.4019828596704392 L -0.5,0.5 L -0.49518472667219693,0.5980171403295605 L -0.48078528040323043,0.6950903220161284 L -0.45694033573220894,0.790284677254462 L -0.42387953251128685,0.8826834323650896 L -0.38192126434835505,0.9713967368259977 L -0.33146961230254546,1.055570233019602 L -0.2730104533627371,1.1343932841636453 L -0.20710678118654768,1.2071067811865475 L -0.13439328416364593,1.2730104533627367 L -0.05557023301960218,1.3314696123025453 L 0.028603263174002136,1.381921264348355 L 0.11731656763490966,1.4238795325112865 L 0.20971532274553756,1.4569403357322088 L 0.30490967798387136,1.4807852804032304 L 0.40198285967043956,1.495184726672197 L 0.5,1.5 L 0.5980171403295601,1.495184726672197 L 0.6950903220161283,1.4807852804032304 L 0.790284677254462,1.456940335732209 L 0.8826834323650901,1.4238795325112865 L 0.9713967368259976,1.381921264348355 L 1.0555702330196017,1.3314696123025453 L 1.1343932841636457,1.2730104533627369 L 1.2071067811865475,1.2071067811865477 L 1.2730104533627364,1.134393284163646 L 1.3314696123025453,1.0555702330196022 L 1.381921264348355,0.9713967368259979 L 1.4238795325112865,0.8826834323650904 L 1.4569403357322088,0.7902846772544625 L 1.4807852804032304,0.6950903220161287 L 1.495184726672197,0.5980171403295605 L 1.5,0.5 z\" /></g></svg>"
      ],
      "text/plain": [
       "<POLYGON ((1.5 0.5, 1.495 0.402, 1.481 0.305, 1.457 0.21, 1.424 0.117, 1.382...>"
      ]
     },
     "execution_count": 3,
     "metadata": {},
     "output_type": "execute_result"
    }
   ],
   "source": [
    "center_point = shapely.Point(0.5, 0.5)\n",
    "circle = shapely.Point(0.5, 0.5).buffer(1.0, resolution=16)\n",
    "circle"
   ]
  },
  {
   "cell_type": "code",
   "execution_count": 5,
   "id": "3f1603c4",
   "metadata": {},
   "outputs": [
    {
     "data": {
      "text/plain": [
       "(0.0, 0.0, 2.0, 2.0)"
      ]
     },
     "execution_count": 5,
     "metadata": {},
     "output_type": "execute_result"
    }
   ],
   "source": [
    "union = shapely.union_all(four_sq)\n",
    "union.bounds"
   ]
  },
  {
   "cell_type": "code",
   "execution_count": null,
   "id": "ddf9be7e",
   "metadata": {},
   "outputs": [],
   "source": []
  }
 ],
 "metadata": {
  "kernelspec": {
   "display_name": "base",
   "language": "python",
   "name": "python3"
  },
  "language_info": {
   "codemirror_mode": {
    "name": "ipython",
    "version": 3
   },
   "file_extension": ".py",
   "mimetype": "text/x-python",
   "name": "python",
   "nbconvert_exporter": "python",
   "pygments_lexer": "ipython3",
   "version": "3.12.3"
  }
 },
 "nbformat": 4,
 "nbformat_minor": 5
}
